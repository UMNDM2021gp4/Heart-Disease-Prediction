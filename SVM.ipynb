{
 "cells": [
  {
   "cell_type": "code",
   "execution_count": 1,
   "id": "84a5744d",
   "metadata": {
    "_cell_guid": "b1076dfc-b9ad-4769-8c92-a6c4dae69d19",
    "_uuid": "8f2839f25d086af736a60e9eeb907d3b93b6e0e5",
    "execution": {
     "iopub.execute_input": "2021-12-20T00:24:41.460543Z",
     "iopub.status.busy": "2021-12-20T00:24:41.458723Z",
     "iopub.status.idle": "2021-12-20T00:24:42.718144Z",
     "shell.execute_reply": "2021-12-20T00:24:42.718923Z",
     "shell.execute_reply.started": "2021-12-20T00:22:59.668744Z"
    },
    "papermill": {
     "duration": 1.28125,
     "end_time": "2021-12-20T00:24:42.719414",
     "exception": false,
     "start_time": "2021-12-20T00:24:41.438164",
     "status": "completed"
    },
    "tags": []
   },
   "outputs": [
    {
     "name": "stdout",
     "output_type": "stream",
     "text": [
      "/kaggle/input/heart-disease-uci/heart.csv\n"
     ]
    }
   ],
   "source": [
    "import numpy as np\n",
    "import pandas as pd \n",
    "import matplotlib.pyplot as plt\n",
    "import seaborn as sns\n",
    "from sklearn.svm import SVC\n",
    "from sklearn.model_selection import train_test_split\n",
    "\n",
    "import os\n",
    "for dirname, _, filenames in os.walk('/kaggle/input'):\n",
    "    for filename in filenames:\n",
    "        print(os.path.join(dirname, filename))\n"
   ]
  },
  {
   "cell_type": "code",
   "execution_count": 2,
   "id": "f78f7a9b",
   "metadata": {
    "execution": {
     "iopub.execute_input": "2021-12-20T00:24:42.757079Z",
     "iopub.status.busy": "2021-12-20T00:24:42.756058Z",
     "iopub.status.idle": "2021-12-20T00:24:42.770840Z",
     "shell.execute_reply": "2021-12-20T00:24:42.771398Z",
     "shell.execute_reply.started": "2021-12-20T00:23:01.138801Z"
    },
    "papermill": {
     "duration": 0.035195,
     "end_time": "2021-12-20T00:24:42.771620",
     "exception": false,
     "start_time": "2021-12-20T00:24:42.736425",
     "status": "completed"
    },
    "tags": []
   },
   "outputs": [
    {
     "name": "stdout",
     "output_type": "stream",
     "text": [
      "(303, 14)\n"
     ]
    }
   ],
   "source": [
    "# reading the data and print out the number of records and attributes\n",
    "df = pd.read_csv('../input/heart-disease-uci/heart.csv')\n",
    "print(df.shape)"
   ]
  },
  {
   "cell_type": "code",
   "execution_count": 3,
   "id": "fac0fe45",
   "metadata": {
    "execution": {
     "iopub.execute_input": "2021-12-20T00:24:42.811403Z",
     "iopub.status.busy": "2021-12-20T00:24:42.810690Z",
     "iopub.status.idle": "2021-12-20T00:24:42.826127Z",
     "shell.execute_reply": "2021-12-20T00:24:42.826649Z",
     "shell.execute_reply.started": "2021-12-20T00:23:01.159901Z"
    },
    "papermill": {
     "duration": 0.039857,
     "end_time": "2021-12-20T00:24:42.826864",
     "exception": false,
     "start_time": "2021-12-20T00:24:42.787007",
     "status": "completed"
    },
    "tags": []
   },
   "outputs": [
    {
     "data": {
      "text/html": [
       "<div>\n",
       "<style scoped>\n",
       "    .dataframe tbody tr th:only-of-type {\n",
       "        vertical-align: middle;\n",
       "    }\n",
       "\n",
       "    .dataframe tbody tr th {\n",
       "        vertical-align: top;\n",
       "    }\n",
       "\n",
       "    .dataframe thead th {\n",
       "        text-align: right;\n",
       "    }\n",
       "</style>\n",
       "<table border=\"1\" class=\"dataframe\">\n",
       "  <thead>\n",
       "    <tr style=\"text-align: right;\">\n",
       "      <th></th>\n",
       "      <th>age</th>\n",
       "      <th>sex</th>\n",
       "      <th>cp</th>\n",
       "      <th>trestbps</th>\n",
       "      <th>chol</th>\n",
       "      <th>fbs</th>\n",
       "      <th>restecg</th>\n",
       "      <th>thalach</th>\n",
       "      <th>exang</th>\n",
       "      <th>oldpeak</th>\n",
       "      <th>slope</th>\n",
       "      <th>ca</th>\n",
       "      <th>thal</th>\n",
       "      <th>target</th>\n",
       "    </tr>\n",
       "  </thead>\n",
       "  <tbody>\n",
       "    <tr>\n",
       "      <th>0</th>\n",
       "      <td>63</td>\n",
       "      <td>1</td>\n",
       "      <td>3</td>\n",
       "      <td>145</td>\n",
       "      <td>233</td>\n",
       "      <td>1</td>\n",
       "      <td>0</td>\n",
       "      <td>150</td>\n",
       "      <td>0</td>\n",
       "      <td>2.3</td>\n",
       "      <td>0</td>\n",
       "      <td>0</td>\n",
       "      <td>1</td>\n",
       "      <td>1</td>\n",
       "    </tr>\n",
       "    <tr>\n",
       "      <th>1</th>\n",
       "      <td>37</td>\n",
       "      <td>1</td>\n",
       "      <td>2</td>\n",
       "      <td>130</td>\n",
       "      <td>250</td>\n",
       "      <td>0</td>\n",
       "      <td>1</td>\n",
       "      <td>187</td>\n",
       "      <td>0</td>\n",
       "      <td>3.5</td>\n",
       "      <td>0</td>\n",
       "      <td>0</td>\n",
       "      <td>2</td>\n",
       "      <td>1</td>\n",
       "    </tr>\n",
       "    <tr>\n",
       "      <th>2</th>\n",
       "      <td>41</td>\n",
       "      <td>0</td>\n",
       "      <td>1</td>\n",
       "      <td>130</td>\n",
       "      <td>204</td>\n",
       "      <td>0</td>\n",
       "      <td>0</td>\n",
       "      <td>172</td>\n",
       "      <td>0</td>\n",
       "      <td>1.4</td>\n",
       "      <td>2</td>\n",
       "      <td>0</td>\n",
       "      <td>2</td>\n",
       "      <td>1</td>\n",
       "    </tr>\n",
       "    <tr>\n",
       "      <th>3</th>\n",
       "      <td>56</td>\n",
       "      <td>1</td>\n",
       "      <td>1</td>\n",
       "      <td>120</td>\n",
       "      <td>236</td>\n",
       "      <td>0</td>\n",
       "      <td>1</td>\n",
       "      <td>178</td>\n",
       "      <td>0</td>\n",
       "      <td>0.8</td>\n",
       "      <td>2</td>\n",
       "      <td>0</td>\n",
       "      <td>2</td>\n",
       "      <td>1</td>\n",
       "    </tr>\n",
       "    <tr>\n",
       "      <th>4</th>\n",
       "      <td>57</td>\n",
       "      <td>0</td>\n",
       "      <td>0</td>\n",
       "      <td>120</td>\n",
       "      <td>354</td>\n",
       "      <td>0</td>\n",
       "      <td>1</td>\n",
       "      <td>163</td>\n",
       "      <td>1</td>\n",
       "      <td>0.6</td>\n",
       "      <td>2</td>\n",
       "      <td>0</td>\n",
       "      <td>2</td>\n",
       "      <td>1</td>\n",
       "    </tr>\n",
       "  </tbody>\n",
       "</table>\n",
       "</div>"
      ],
      "text/plain": [
       "   age  sex  cp  trestbps  chol  fbs  restecg  thalach  exang  oldpeak  slope  \\\n",
       "0   63    1   3       145   233    1        0      150      0      2.3      0   \n",
       "1   37    1   2       130   250    0        1      187      0      3.5      0   \n",
       "2   41    0   1       130   204    0        0      172      0      1.4      2   \n",
       "3   56    1   1       120   236    0        1      178      0      0.8      2   \n",
       "4   57    0   0       120   354    0        1      163      1      0.6      2   \n",
       "\n",
       "   ca  thal  target  \n",
       "0   0     1       1  \n",
       "1   0     2       1  \n",
       "2   0     2       1  \n",
       "3   0     2       1  \n",
       "4   0     2       1  "
      ]
     },
     "execution_count": 3,
     "metadata": {},
     "output_type": "execute_result"
    }
   ],
   "source": [
    "# show the first 5 records of data\n",
    "df.head()"
   ]
  },
  {
   "cell_type": "code",
   "execution_count": 4,
   "id": "dec73a2a",
   "metadata": {
    "execution": {
     "iopub.execute_input": "2021-12-20T00:24:42.867154Z",
     "iopub.status.busy": "2021-12-20T00:24:42.866373Z",
     "iopub.status.idle": "2021-12-20T00:24:42.884382Z",
     "shell.execute_reply": "2021-12-20T00:24:42.884911Z",
     "shell.execute_reply.started": "2021-12-20T00:23:01.185460Z"
    },
    "papermill": {
     "duration": 0.040387,
     "end_time": "2021-12-20T00:24:42.885170",
     "exception": false,
     "start_time": "2021-12-20T00:24:42.844783",
     "status": "completed"
    },
    "tags": []
   },
   "outputs": [
    {
     "name": "stdout",
     "output_type": "stream",
     "text": [
      "<class 'pandas.core.frame.DataFrame'>\n",
      "RangeIndex: 303 entries, 0 to 302\n",
      "Data columns (total 14 columns):\n",
      " #   Column    Non-Null Count  Dtype  \n",
      "---  ------    --------------  -----  \n",
      " 0   age       303 non-null    int64  \n",
      " 1   sex       303 non-null    int64  \n",
      " 2   cp        303 non-null    int64  \n",
      " 3   trestbps  303 non-null    int64  \n",
      " 4   chol      303 non-null    int64  \n",
      " 5   fbs       303 non-null    int64  \n",
      " 6   restecg   303 non-null    int64  \n",
      " 7   thalach   303 non-null    int64  \n",
      " 8   exang     303 non-null    int64  \n",
      " 9   oldpeak   303 non-null    float64\n",
      " 10  slope     303 non-null    int64  \n",
      " 11  ca        303 non-null    int64  \n",
      " 12  thal      303 non-null    int64  \n",
      " 13  target    303 non-null    int64  \n",
      "dtypes: float64(1), int64(13)\n",
      "memory usage: 33.3 KB\n"
     ]
    }
   ],
   "source": [
    "# check whether data has missing values\n",
    "df.info()"
   ]
  },
  {
   "cell_type": "code",
   "execution_count": 5,
   "id": "ddff52dc",
   "metadata": {
    "execution": {
     "iopub.execute_input": "2021-12-20T00:24:42.924332Z",
     "iopub.status.busy": "2021-12-20T00:24:42.923625Z",
     "iopub.status.idle": "2021-12-20T00:24:42.933687Z",
     "shell.execute_reply": "2021-12-20T00:24:42.934285Z",
     "shell.execute_reply.started": "2021-12-20T00:23:01.208377Z"
    },
    "papermill": {
     "duration": 0.032816,
     "end_time": "2021-12-20T00:24:42.934499",
     "exception": false,
     "start_time": "2021-12-20T00:24:42.901683",
     "status": "completed"
    },
    "tags": []
   },
   "outputs": [
    {
     "data": {
      "text/plain": [
       "1    165\n",
       "0    138\n",
       "Name: target, dtype: int64"
      ]
     },
     "execution_count": 5,
     "metadata": {},
     "output_type": "execute_result"
    }
   ],
   "source": [
    "# check whether data has imbalanced targets\n",
    "df.target.value_counts()"
   ]
  },
  {
   "cell_type": "code",
   "execution_count": 6,
   "id": "92279bda",
   "metadata": {
    "execution": {
     "iopub.execute_input": "2021-12-20T00:24:42.984066Z",
     "iopub.status.busy": "2021-12-20T00:24:42.982939Z",
     "iopub.status.idle": "2021-12-20T00:24:42.996236Z",
     "shell.execute_reply": "2021-12-20T00:24:42.997320Z",
     "shell.execute_reply.started": "2021-12-20T00:23:01.216711Z"
    },
    "papermill": {
     "duration": 0.042336,
     "end_time": "2021-12-20T00:24:42.997580",
     "exception": false,
     "start_time": "2021-12-20T00:24:42.955244",
     "status": "completed"
    },
    "tags": []
   },
   "outputs": [
    {
     "name": "stdout",
     "output_type": "stream",
     "text": [
      "Female count 96.0\n",
      "Male count 207.0\n"
     ]
    }
   ],
   "source": [
    "# check female and male counts\n",
    "countFemale = len(df[df.sex == 0])\n",
    "countMale = len(df[df.sex == 1])\n",
    "print(\"Female count {:.1f}\".format(countFemale))\n",
    "print(\"Male count {:.1f}\".format(countMale))"
   ]
  },
  {
   "cell_type": "code",
   "execution_count": 7,
   "id": "a841d7a7",
   "metadata": {
    "execution": {
     "iopub.execute_input": "2021-12-20T00:24:43.044349Z",
     "iopub.status.busy": "2021-12-20T00:24:43.043293Z",
     "iopub.status.idle": "2021-12-20T00:24:44.306873Z",
     "shell.execute_reply": "2021-12-20T00:24:44.307407Z",
     "shell.execute_reply.started": "2021-12-20T00:23:01.230937Z"
    },
    "papermill": {
     "duration": 1.287205,
     "end_time": "2021-12-20T00:24:44.307623",
     "exception": false,
     "start_time": "2021-12-20T00:24:43.020418",
     "status": "completed"
    },
    "tags": []
   },
   "outputs": [
    {
     "data": {
      "text/plain": [
       "<AxesSubplot:>"
      ]
     },
     "execution_count": 7,
     "metadata": {},
     "output_type": "execute_result"
    },
    {
     "data": {
      "image/png": "[encoded data removed]",
      "text/plain": [
       "<Figure size 1080x1080 with 2 Axes>"
      ]
     },
     "metadata": {
      "needs_background": "light"
     },
     "output_type": "display_data"
    }
   ],
   "source": [
    "# plot the heat map to aorrelations of attributes\n",
    "df.corr()\n",
    "fig, ax = plt.subplots(figsize=(15,15))\n",
    "sns.heatmap(df.corr(),annot=True, linewidths=.5,ax=ax)"
   ]
  },
  {
   "cell_type": "code",
   "execution_count": 8,
   "id": "0d61b26b",
   "metadata": {
    "execution": {
     "iopub.execute_input": "2021-12-20T00:24:44.356130Z",
     "iopub.status.busy": "2021-12-20T00:24:44.355054Z",
     "iopub.status.idle": "2021-12-20T00:24:44.358484Z",
     "shell.execute_reply": "2021-12-20T00:24:44.357960Z",
     "shell.execute_reply.started": "2021-12-20T00:23:02.900921Z"
    },
    "papermill": {
     "duration": 0.030432,
     "end_time": "2021-12-20T00:24:44.358643",
     "exception": false,
     "start_time": "2021-12-20T00:24:44.328211",
     "status": "completed"
    },
    "tags": []
   },
   "outputs": [],
   "source": [
    "# separate the targets\n",
    "y = df.target.values\n",
    "x_data = df.drop(['target'], axis = 1)"
   ]
  },
  {
   "cell_type": "code",
   "execution_count": 9,
   "id": "17d0237f",
   "metadata": {
    "execution": {
     "iopub.execute_input": "2021-12-20T00:24:44.409359Z",
     "iopub.status.busy": "2021-12-20T00:24:44.408713Z",
     "iopub.status.idle": "2021-12-20T00:24:44.412006Z",
     "shell.execute_reply": "2021-12-20T00:24:44.411545Z",
     "shell.execute_reply.started": "2021-12-20T00:23:02.908780Z"
    },
    "papermill": {
     "duration": 0.033738,
     "end_time": "2021-12-20T00:24:44.412185",
     "exception": false,
     "start_time": "2021-12-20T00:24:44.378447",
     "status": "completed"
    },
    "tags": []
   },
   "outputs": [],
   "source": [
    "# normalize the attributes\n",
    "x = (x_data - np.min(x_data)) / (np.max(x_data) - np.min(x_data)).values"
   ]
  },
  {
   "cell_type": "code",
   "execution_count": 10,
   "id": "e06b154e",
   "metadata": {
    "execution": {
     "iopub.execute_input": "2021-12-20T00:24:44.455281Z",
     "iopub.status.busy": "2021-12-20T00:24:44.454646Z",
     "iopub.status.idle": "2021-12-20T00:24:44.465295Z",
     "shell.execute_reply": "2021-12-20T00:24:44.464662Z",
     "shell.execute_reply.started": "2021-12-20T00:23:02.926056Z"
    },
    "papermill": {
     "duration": 0.033429,
     "end_time": "2021-12-20T00:24:44.465434",
     "exception": false,
     "start_time": "2021-12-20T00:24:44.432005",
     "status": "completed"
    },
    "tags": []
   },
   "outputs": [],
   "source": [
    "# split training and testing data with ratio of 8: 2\n",
    "x_train, x_test, y_train, y_test = train_test_split(x,y,test_size = 0.2,random_state=0)\n",
    "\n",
    "x_train = x_train.T\n",
    "y_train = y_train.T\n",
    "x_test = x_test.T\n",
    "y_test = y_test.T"
   ]
  },
  {
   "cell_type": "code",
   "execution_count": 11,
   "id": "30642ef9",
   "metadata": {
    "execution": {
     "iopub.execute_input": "2021-12-20T00:24:44.515150Z",
     "iopub.status.busy": "2021-12-20T00:24:44.513893Z",
     "iopub.status.idle": "2021-12-20T00:24:44.528485Z",
     "shell.execute_reply": "2021-12-20T00:24:44.529189Z",
     "shell.execute_reply.started": "2021-12-20T00:23:02.939611Z"
    },
    "papermill": {
     "duration": 0.044042,
     "end_time": "2021-12-20T00:24:44.529415",
     "exception": false,
     "start_time": "2021-12-20T00:24:44.485373",
     "status": "completed"
    },
    "tags": []
   },
   "outputs": [
    {
     "name": "stdout",
     "output_type": "stream",
     "text": [
      "Train Accuracy of SVM Algorithm: 88.02%\n",
      "Test Accuracy of SVM Algorithm: 83.61%\n"
     ]
    }
   ],
   "source": [
    "# SVM with kernel = rbf, C = 1\n",
    "accuracies = {}\n",
    "\n",
    "svm = SVC(random_state = 1, kernel = 'rbf', C = 1)\n",
    "svm.fit(x_train.T, y_train.T)\n",
    "\n",
    "acc = svm.score(x_train.T,y_train.T)*100\n",
    "accuracies['SVM'] = acc\n",
    "print(\"Train Accuracy of SVM Algorithm: {:.2f}%\".format(acc))\n",
    "\n",
    "acc = svm.score(x_test.T,y_test.T)*100\n",
    "accuracies['SVM'] = acc\n",
    "print(\"Test Accuracy of SVM Algorithm: {:.2f}%\".format(acc))"
   ]
  },
  {
   "cell_type": "code",
   "execution_count": 12,
   "id": "ad473130",
   "metadata": {
    "execution": {
     "iopub.execute_input": "2021-12-20T00:24:44.580444Z",
     "iopub.status.busy": "2021-12-20T00:24:44.573853Z",
     "iopub.status.idle": "2021-12-20T00:24:44.592993Z",
     "shell.execute_reply": "2021-12-20T00:24:44.592047Z",
     "shell.execute_reply.started": "2021-12-20T00:23:02.962873Z"
    },
    "papermill": {
     "duration": 0.04298,
     "end_time": "2021-12-20T00:24:44.593244",
     "exception": false,
     "start_time": "2021-12-20T00:24:44.550264",
     "status": "completed"
    },
    "tags": []
   },
   "outputs": [
    {
     "name": "stdout",
     "output_type": "stream",
     "text": [
      "Train Accuracy of SVM Algorithm: 85.12%\n",
      "Test Accuracy of SVM Algorithm: 81.97%\n"
     ]
    }
   ],
   "source": [
    "# SVM with kernel = rbf, C = 0.5\n",
    "accuracies = {}\n",
    "\n",
    "svm = SVC(random_state = 1, kernel = 'rbf', C = 0.5)\n",
    "svm.fit(x_train.T, y_train.T)\n",
    "\n",
    "acc = svm.score(x_train.T,y_train.T)*100\n",
    "accuracies['SVM'] = acc\n",
    "print(\"Train Accuracy of SVM Algorithm: {:.2f}%\".format(acc))\n",
    "\n",
    "acc = svm.score(x_test.T,y_test.T)*100\n",
    "accuracies['SVM'] = acc\n",
    "print(\"Test Accuracy of SVM Algorithm: {:.2f}%\".format(acc))"
   ]
  },
  {
   "cell_type": "code",
   "execution_count": 13,
   "id": "62632a1d",
   "metadata": {
    "execution": {
     "iopub.execute_input": "2021-12-20T00:24:44.639309Z",
     "iopub.status.busy": "2021-12-20T00:24:44.638674Z",
     "iopub.status.idle": "2021-12-20T00:24:44.658506Z",
     "shell.execute_reply": "2021-12-20T00:24:44.659460Z",
     "shell.execute_reply.started": "2021-12-20T00:23:02.984715Z"
    },
    "papermill": {
     "duration": 0.045051,
     "end_time": "2021-12-20T00:24:44.659754",
     "exception": false,
     "start_time": "2021-12-20T00:24:44.614703",
     "status": "completed"
    },
    "tags": []
   },
   "outputs": [
    {
     "name": "stdout",
     "output_type": "stream",
     "text": [
      "Train Accuracy of SVM Algorithm: 90.08%\n",
      "Test Accuracy of SVM Algorithm: 88.52%\n"
     ]
    }
   ],
   "source": [
    "# SVM with kernel = rbf, C = 2\n",
    "accuracies = {}\n",
    "\n",
    "svm = SVC(random_state = 1, kernel = 'rbf', C = 2)\n",
    "svm.fit(x_train.T, y_train.T)\n",
    "\n",
    "acc = svm.score(x_train.T,y_train.T)*100\n",
    "accuracies['SVM'] = acc\n",
    "print(\"Train Accuracy of SVM Algorithm: {:.2f}%\".format(acc))\n",
    "\n",
    "acc = svm.score(x_test.T,y_test.T)*100\n",
    "accuracies['SVM'] = acc\n",
    "print(\"Test Accuracy of SVM Algorithm: {:.2f}%\".format(acc))"
   ]
  },
  {
   "cell_type": "code",
   "execution_count": 14,
   "id": "c316962a",
   "metadata": {
    "execution": {
     "iopub.execute_input": "2021-12-20T00:24:44.705405Z",
     "iopub.status.busy": "2021-12-20T00:24:44.704757Z",
     "iopub.status.idle": "2021-12-20T00:24:44.724534Z",
     "shell.execute_reply": "2021-12-20T00:24:44.723784Z",
     "shell.execute_reply.started": "2021-12-20T00:23:03.005416Z"
    },
    "papermill": {
     "duration": 0.043663,
     "end_time": "2021-12-20T00:24:44.724730",
     "exception": false,
     "start_time": "2021-12-20T00:24:44.681067",
     "status": "completed"
    },
    "tags": []
   },
   "outputs": [
    {
     "name": "stdout",
     "output_type": "stream",
     "text": [
      "Train Accuracy of SVM Algorithm: 84.30%\n",
      "Test Accuracy of SVM Algorithm: 83.61%\n"
     ]
    }
   ],
   "source": [
    "# SVM with kernel = linear, C = 1\n",
    "accuracies = {}\n",
    "\n",
    "svm = SVC(random_state = 1, kernel = 'linear', C = 1)\n",
    "svm.fit(x_train.T, y_train.T)\n",
    "\n",
    "acc = svm.score(x_train.T,y_train.T)*100\n",
    "accuracies['SVM'] = acc\n",
    "print(\"Train Accuracy of SVM Algorithm: {:.2f}%\".format(acc))\n",
    "\n",
    "acc = svm.score(x_test.T,y_test.T)*100\n",
    "accuracies['SVM'] = acc\n",
    "print(\"Test Accuracy of SVM Algorithm: {:.2f}%\".format(acc))"
   ]
  },
  {
   "cell_type": "code",
   "execution_count": 15,
   "id": "e21feaeb",
   "metadata": {
    "execution": {
     "iopub.execute_input": "2021-12-20T00:24:44.778038Z",
     "iopub.status.busy": "2021-12-20T00:24:44.777396Z",
     "iopub.status.idle": "2021-12-20T00:24:44.788070Z",
     "shell.execute_reply": "2021-12-20T00:24:44.788709Z",
     "shell.execute_reply.started": "2021-12-20T00:23:03.022092Z"
    },
    "papermill": {
     "duration": 0.042659,
     "end_time": "2021-12-20T00:24:44.788915",
     "exception": false,
     "start_time": "2021-12-20T00:24:44.746256",
     "status": "completed"
    },
    "tags": []
   },
   "outputs": [
    {
     "name": "stdout",
     "output_type": "stream",
     "text": [
      "Train Accuracy of SVM Algorithm: 83.88%\n",
      "Test Accuracy of SVM Algorithm: 81.97%\n"
     ]
    }
   ],
   "source": [
    "# SVM with kernel = linear, C = 0.5\n",
    "accuracies = {}\n",
    "\n",
    "svm = SVC(random_state = 1, kernel = 'linear', C = 0.5)\n",
    "svm.fit(x_train.T, y_train.T)\n",
    "\n",
    "acc = svm.score(x_train.T,y_train.T)*100\n",
    "accuracies['SVM'] = acc\n",
    "print(\"Train Accuracy of SVM Algorithm: {:.2f}%\".format(acc))\n",
    "\n",
    "acc = svm.score(x_test.T,y_test.T)*100\n",
    "accuracies['SVM'] = acc\n",
    "print(\"Test Accuracy of SVM Algorithm: {:.2f}%\".format(acc))"
   ]
  },
  {
   "cell_type": "code",
   "execution_count": 16,
   "id": "74e1d1b3",
   "metadata": {
    "execution": {
     "iopub.execute_input": "2021-12-20T00:24:44.842143Z",
     "iopub.status.busy": "2021-12-20T00:24:44.837254Z",
     "iopub.status.idle": "2021-12-20T00:24:44.853502Z",
     "shell.execute_reply": "2021-12-20T00:24:44.853997Z",
     "shell.execute_reply.started": "2021-12-20T00:23:03.040383Z"
    },
    "papermill": {
     "duration": 0.042421,
     "end_time": "2021-12-20T00:24:44.854221",
     "exception": false,
     "start_time": "2021-12-20T00:24:44.811800",
     "status": "completed"
    },
    "tags": []
   },
   "outputs": [
    {
     "name": "stdout",
     "output_type": "stream",
     "text": [
      "Train Accuracy of SVM Algorithm: 84.30%\n",
      "Test Accuracy of SVM Algorithm: 80.33%\n"
     ]
    }
   ],
   "source": [
    "# SVM with kernel = linear, C = 2\n",
    "accuracies = {}\n",
    "\n",
    "svm = SVC(random_state = 1, kernel = 'linear', C = 2)\n",
    "svm.fit(x_train.T, y_train.T)\n",
    "\n",
    "acc = svm.score(x_train.T,y_train.T)*100\n",
    "accuracies['SVM'] = acc\n",
    "print(\"Train Accuracy of SVM Algorithm: {:.2f}%\".format(acc))\n",
    "\n",
    "acc = svm.score(x_test.T,y_test.T)*100\n",
    "accuracies['SVM'] = acc\n",
    "print(\"Test Accuracy of SVM Algorithm: {:.2f}%\".format(acc))"
   ]
  },
  {
   "cell_type": "code",
   "execution_count": 17,
   "id": "a9d01918",
   "metadata": {
    "execution": {
     "iopub.execute_input": "2021-12-20T00:24:44.904877Z",
     "iopub.status.busy": "2021-12-20T00:24:44.903997Z",
     "iopub.status.idle": "2021-12-20T00:24:44.920594Z",
     "shell.execute_reply": "2021-12-20T00:24:44.921073Z",
     "shell.execute_reply.started": "2021-12-20T00:23:03.057832Z"
    },
    "papermill": {
     "duration": 0.044799,
     "end_time": "2021-12-20T00:24:44.921291",
     "exception": false,
     "start_time": "2021-12-20T00:24:44.876492",
     "status": "completed"
    },
    "tags": []
   },
   "outputs": [
    {
     "name": "stdout",
     "output_type": "stream",
     "text": [
      "Train Accuracy of SVM Algorithm: 92.15%\n",
      "Test Accuracy of SVM Algorithm: 86.89%\n"
     ]
    }
   ],
   "source": [
    "# SVM with kernel = polynomial, C = 1\n",
    "accuracies = {}\n",
    "\n",
    "svm = SVC(random_state = 1, kernel = 'poly', C = 1)\n",
    "svm.fit(x_train.T, y_train.T)\n",
    "\n",
    "acc = svm.score(x_train.T,y_train.T)*100\n",
    "accuracies['SVM'] = acc\n",
    "print(\"Train Accuracy of SVM Algorithm: {:.2f}%\".format(acc))\n",
    "\n",
    "acc = svm.score(x_test.T,y_test.T)*100\n",
    "accuracies['SVM'] = acc\n",
    "print(\"Test Accuracy of SVM Algorithm: {:.2f}%\".format(acc))"
   ]
  },
  {
   "cell_type": "code",
   "execution_count": 18,
   "id": "ae6d86e5",
   "metadata": {
    "execution": {
     "iopub.execute_input": "2021-12-20T00:24:44.970278Z",
     "iopub.status.busy": "2021-12-20T00:24:44.969516Z",
     "iopub.status.idle": "2021-12-20T00:24:44.983563Z",
     "shell.execute_reply": "2021-12-20T00:24:44.984038Z",
     "shell.execute_reply.started": "2021-12-20T00:23:03.076829Z"
    },
    "papermill": {
     "duration": 0.040775,
     "end_time": "2021-12-20T00:24:44.984300",
     "exception": false,
     "start_time": "2021-12-20T00:24:44.943525",
     "status": "completed"
    },
    "tags": []
   },
   "outputs": [
    {
     "name": "stdout",
     "output_type": "stream",
     "text": [
      "Train Accuracy of SVM Algorithm: 90.08%\n",
      "Test Accuracy of SVM Algorithm: 85.25%\n"
     ]
    }
   ],
   "source": [
    "# SVM with kernel = polynomial, C = 0.5\n",
    "accuracies = {}\n",
    "\n",
    "svm = SVC(random_state = 1, kernel = 'poly', C = 0.5)\n",
    "svm.fit(x_train.T, y_train.T)\n",
    "\n",
    "acc = svm.score(x_train.T,y_train.T)*100\n",
    "accuracies['SVM'] = acc\n",
    "print(\"Train Accuracy of SVM Algorithm: {:.2f}%\".format(acc))\n",
    "\n",
    "acc = svm.score(x_test.T,y_test.T)*100\n",
    "accuracies['SVM'] = acc\n",
    "print(\"Test Accuracy of SVM Algorithm: {:.2f}%\".format(acc))"
   ]
  },
  {
   "cell_type": "code",
   "execution_count": 19,
   "id": "b0c02e8e",
   "metadata": {
    "execution": {
     "iopub.execute_input": "2021-12-20T00:24:45.035366Z",
     "iopub.status.busy": "2021-12-20T00:24:45.034605Z",
     "iopub.status.idle": "2021-12-20T00:24:45.051975Z",
     "shell.execute_reply": "2021-12-20T00:24:45.051262Z",
     "shell.execute_reply.started": "2021-12-20T00:23:03.096203Z"
    },
    "papermill": {
     "duration": 0.043853,
     "end_time": "2021-12-20T00:24:45.052197",
     "exception": false,
     "start_time": "2021-12-20T00:24:45.008344",
     "status": "completed"
    },
    "tags": []
   },
   "outputs": [
    {
     "name": "stdout",
     "output_type": "stream",
     "text": [
      "Train Accuracy of SVM Algorithm: 93.80%\n",
      "Test Accuracy of SVM Algorithm: 83.61%\n"
     ]
    }
   ],
   "source": [
    "# SVM with kernel = polynomial, C = 2\n",
    "accuracies = {}\n",
    "\n",
    "svm = SVC(random_state = 1, kernel = 'poly', C = 2)\n",
    "svm.fit(x_train.T, y_train.T)\n",
    "\n",
    "acc = svm.score(x_train.T,y_train.T)*100\n",
    "accuracies['SVM'] = acc\n",
    "print(\"Train Accuracy of SVM Algorithm: {:.2f}%\".format(acc))\n",
    "\n",
    "acc = svm.score(x_test.T,y_test.T)*100\n",
    "accuracies['SVM'] = acc\n",
    "print(\"Test Accuracy of SVM Algorithm: {:.2f}%\".format(acc))"
   ]
  },
  {
   "cell_type": "code",
   "execution_count": 20,
   "id": "08919ccd",
   "metadata": {
    "execution": {
     "iopub.execute_input": "2021-12-20T00:24:45.101437Z",
     "iopub.status.busy": "2021-12-20T00:24:45.100812Z",
     "iopub.status.idle": "2021-12-20T00:24:45.125213Z",
     "shell.execute_reply": "2021-12-20T00:24:45.125742Z",
     "shell.execute_reply.started": "2021-12-20T00:23:03.116534Z"
    },
    "papermill": {
     "duration": 0.050662,
     "end_time": "2021-12-20T00:24:45.125989",
     "exception": false,
     "start_time": "2021-12-20T00:24:45.075327",
     "status": "completed"
    },
    "tags": []
   },
   "outputs": [
    {
     "name": "stdout",
     "output_type": "stream",
     "text": [
      "Train Accuracy of SVM Algorithm: 75.21%\n",
      "Test Accuracy of SVM Algorithm: 78.69%\n"
     ]
    }
   ],
   "source": [
    "# SVM with kernel = sigmoid, C = 1\n",
    "accuracies = {}\n",
    "\n",
    "svm = SVC(random_state = 1, kernel = 'sigmoid', C = 1)\n",
    "svm.fit(x_train.T, y_train.T)\n",
    "\n",
    "acc = svm.score(x_train.T,y_train.T)*100\n",
    "accuracies['SVM'] = acc\n",
    "print(\"Train Accuracy of SVM Algorithm: {:.2f}%\".format(acc))\n",
    "\n",
    "acc = svm.score(x_test.T,y_test.T)*100\n",
    "accuracies['SVM'] = acc\n",
    "print(\"Test Accuracy of SVM Algorithm: {:.2f}%\".format(acc))"
   ]
  },
  {
   "cell_type": "code",
   "execution_count": 21,
   "id": "1c6145ca",
   "metadata": {
    "execution": {
     "iopub.execute_input": "2021-12-20T00:24:45.178702Z",
     "iopub.status.busy": "2021-12-20T00:24:45.177900Z",
     "iopub.status.idle": "2021-12-20T00:24:45.196737Z",
     "shell.execute_reply": "2021-12-20T00:24:45.197556Z",
     "shell.execute_reply.started": "2021-12-20T00:23:03.137638Z"
    },
    "papermill": {
     "duration": 0.046791,
     "end_time": "2021-12-20T00:24:45.197835",
     "exception": false,
     "start_time": "2021-12-20T00:24:45.151044",
     "status": "completed"
    },
    "tags": []
   },
   "outputs": [
    {
     "name": "stdout",
     "output_type": "stream",
     "text": [
      "Train Accuracy of SVM Algorithm: 75.62%\n",
      "Test Accuracy of SVM Algorithm: 80.33%\n"
     ]
    }
   ],
   "source": [
    "# SVM with kernel = sigmoid, C = 0.5\n",
    "accuracies = {}\n",
    "\n",
    "svm = SVC(random_state = 1, kernel = 'sigmoid', C = 0.5)\n",
    "svm.fit(x_train.T, y_train.T)\n",
    "\n",
    "acc = svm.score(x_train.T,y_train.T)*100\n",
    "accuracies['SVM'] = acc\n",
    "print(\"Train Accuracy of SVM Algorithm: {:.2f}%\".format(acc))\n",
    "\n",
    "acc = svm.score(x_test.T,y_test.T)*100\n",
    "accuracies['SVM'] = acc\n",
    "print(\"Test Accuracy of SVM Algorithm: {:.2f}%\".format(acc))"
   ]
  },
  {
   "cell_type": "code",
   "execution_count": 22,
   "id": "a12bf870",
   "metadata": {
    "execution": {
     "iopub.execute_input": "2021-12-20T00:24:45.249720Z",
     "iopub.status.busy": "2021-12-20T00:24:45.248987Z",
     "iopub.status.idle": "2021-12-20T00:24:45.267704Z",
     "shell.execute_reply": "2021-12-20T00:24:45.267189Z",
     "shell.execute_reply.started": "2021-12-20T00:23:03.158731Z"
    },
    "papermill": {
     "duration": 0.045145,
     "end_time": "2021-12-20T00:24:45.267869",
     "exception": false,
     "start_time": "2021-12-20T00:24:45.222724",
     "status": "completed"
    },
    "tags": []
   },
   "outputs": [
    {
     "name": "stdout",
     "output_type": "stream",
     "text": [
      "Train Accuracy of SVM Algorithm: 71.90%\n",
      "Test Accuracy of SVM Algorithm: 75.41%\n"
     ]
    }
   ],
   "source": [
    "# SVM with kernel = sigmoid, C = 2\n",
    "accuracies = {}\n",
    "\n",
    "svm = SVC(random_state = 1, kernel = 'sigmoid', C = 2)\n",
    "svm.fit(x_train.T, y_train.T)\n",
    "\n",
    "acc = svm.score(x_train.T,y_train.T)*100\n",
    "accuracies['SVM'] = acc\n",
    "print(\"Train Accuracy of SVM Algorithm: {:.2f}%\".format(acc))\n",
    "\n",
    "acc = svm.score(x_test.T,y_test.T)*100\n",
    "accuracies['SVM'] = acc\n",
    "print(\"Test Accuracy of SVM Algorithm: {:.2f}%\".format(acc))"
   ]
  }
 ],
 "metadata": {
  "kernelspec": {
   "display_name": "Python 3",
   "language": "python",
   "name": "python3"
  },
  "language_info": {
   "codemirror_mode": {
    "name": "ipython",
    "version": 3
   },
   "file_extension": ".py",
   "mimetype": "text/x-python",
   "name": "python",
   "nbconvert_exporter": "python",
   "pygments_lexer": "ipython3",
   "version": "3.7.12"
  },
  "papermill": {
   "default_parameters": {},
   "duration": 13.67011,
   "end_time": "2021-12-20T00:24:46.205075",
   "environment_variables": {},
   "exception": null,
   "input_path": "__notebook__.ipynb",
   "output_path": "__notebook__.ipynb",
   "parameters": {},
   "start_time": "2021-12-20T00:24:32.534965",
   "version": "2.3.3"
  }
 },
 "nbformat": 4,
 "nbformat_minor": 5
}
